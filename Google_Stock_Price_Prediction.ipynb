{
  "nbformat": 4,
  "nbformat_minor": 0,
  "metadata": {
    "colab": {
      "name": "Google Stock Prediction",
      "provenance": []
    },
    "kernelspec": {
      "name": "python3",
      "display_name": "Python 3"
    },
    "language_info": {
      "name": "python"
    }
  },
  "cells": [
    {
      "cell_type": "code",
      "metadata": {
        "id": "JQNb2WGpR7M6"
      },
      "source": [
        "import pandas as pd\n",
        "import numpy as np\n",
        "import matplotlib.pyplot as plt"
      ],
      "execution_count": 1,
      "outputs": []
    },
    {
      "cell_type": "markdown",
      "metadata": {
        "id": "LL6VxnFGW4Ow"
      },
      "source": [
        "# Data Preprocessing.."
      ]
    },
    {
      "cell_type": "code",
      "metadata": {
        "colab": {
          "base_uri": "https://localhost:8080/",
          "height": 203
        },
        "id": "Ged5OtpcUknX",
        "outputId": "df81a38b-41e6-4573-d70e-bd8082568415"
      },
      "source": [
        "data = pd.read_csv('/content/train.csv')\n",
        "data.head()"
      ],
      "execution_count": 27,
      "outputs": [
        {
          "output_type": "execute_result",
          "data": {
            "text/html": [
              "<div>\n",
              "<style scoped>\n",
              "    .dataframe tbody tr th:only-of-type {\n",
              "        vertical-align: middle;\n",
              "    }\n",
              "\n",
              "    .dataframe tbody tr th {\n",
              "        vertical-align: top;\n",
              "    }\n",
              "\n",
              "    .dataframe thead th {\n",
              "        text-align: right;\n",
              "    }\n",
              "</style>\n",
              "<table border=\"1\" class=\"dataframe\">\n",
              "  <thead>\n",
              "    <tr style=\"text-align: right;\">\n",
              "      <th></th>\n",
              "      <th>Date</th>\n",
              "      <th>Open</th>\n",
              "      <th>High</th>\n",
              "      <th>Low</th>\n",
              "      <th>Close</th>\n",
              "      <th>Adj Close</th>\n",
              "      <th>Volume</th>\n",
              "    </tr>\n",
              "  </thead>\n",
              "  <tbody>\n",
              "    <tr>\n",
              "      <th>0</th>\n",
              "      <td>2017-09-05</td>\n",
              "      <td>946.859985</td>\n",
              "      <td>951.390015</td>\n",
              "      <td>935.599976</td>\n",
              "      <td>941.479980</td>\n",
              "      <td>941.479980</td>\n",
              "      <td>1457400</td>\n",
              "    </tr>\n",
              "    <tr>\n",
              "      <th>1</th>\n",
              "      <td>2017-09-06</td>\n",
              "      <td>943.869995</td>\n",
              "      <td>944.500000</td>\n",
              "      <td>932.679993</td>\n",
              "      <td>942.020020</td>\n",
              "      <td>942.020020</td>\n",
              "      <td>1391500</td>\n",
              "    </tr>\n",
              "    <tr>\n",
              "      <th>2</th>\n",
              "      <td>2017-09-07</td>\n",
              "      <td>944.250000</td>\n",
              "      <td>950.500000</td>\n",
              "      <td>937.530029</td>\n",
              "      <td>949.890015</td>\n",
              "      <td>949.890015</td>\n",
              "      <td>1116600</td>\n",
              "    </tr>\n",
              "    <tr>\n",
              "      <th>3</th>\n",
              "      <td>2017-09-08</td>\n",
              "      <td>949.700012</td>\n",
              "      <td>950.700012</td>\n",
              "      <td>940.010010</td>\n",
              "      <td>941.409973</td>\n",
              "      <td>941.409973</td>\n",
              "      <td>999900</td>\n",
              "    </tr>\n",
              "    <tr>\n",
              "      <th>4</th>\n",
              "      <td>2017-09-11</td>\n",
              "      <td>947.200012</td>\n",
              "      <td>952.679993</td>\n",
              "      <td>941.000000</td>\n",
              "      <td>943.289978</td>\n",
              "      <td>943.289978</td>\n",
              "      <td>1337400</td>\n",
              "    </tr>\n",
              "  </tbody>\n",
              "</table>\n",
              "</div>"
            ],
            "text/plain": [
              "         Date        Open        High  ...       Close   Adj Close   Volume\n",
              "0  2017-09-05  946.859985  951.390015  ...  941.479980  941.479980  1457400\n",
              "1  2017-09-06  943.869995  944.500000  ...  942.020020  942.020020  1391500\n",
              "2  2017-09-07  944.250000  950.500000  ...  949.890015  949.890015  1116600\n",
              "3  2017-09-08  949.700012  950.700012  ...  941.409973  941.409973   999900\n",
              "4  2017-09-11  947.200012  952.679993  ...  943.289978  943.289978  1337400\n",
              "\n",
              "[5 rows x 7 columns]"
            ]
          },
          "metadata": {},
          "execution_count": 27
        }
      ]
    },
    {
      "cell_type": "code",
      "metadata": {
        "colab": {
          "base_uri": "https://localhost:8080/"
        },
        "id": "DoA-W3JPU1gX",
        "outputId": "e3c4cc83-1c74-4e78-8e2f-16241453a41d"
      },
      "source": [
        "data.info()"
      ],
      "execution_count": 28,
      "outputs": [
        {
          "output_type": "stream",
          "name": "stdout",
          "text": [
            "<class 'pandas.core.frame.DataFrame'>\n",
            "RangeIndex: 755 entries, 0 to 754\n",
            "Data columns (total 7 columns):\n",
            " #   Column     Non-Null Count  Dtype  \n",
            "---  ------     --------------  -----  \n",
            " 0   Date       755 non-null    object \n",
            " 1   Open       755 non-null    float64\n",
            " 2   High       755 non-null    float64\n",
            " 3   Low        755 non-null    float64\n",
            " 4   Close      755 non-null    float64\n",
            " 5   Adj Close  755 non-null    float64\n",
            " 6   Volume     755 non-null    int64  \n",
            "dtypes: float64(5), int64(1), object(1)\n",
            "memory usage: 41.4+ KB\n"
          ]
        }
      ]
    },
    {
      "cell_type": "code",
      "metadata": {
        "colab": {
          "base_uri": "https://localhost:8080/",
          "height": 35
        },
        "id": "z9Kvh0G5U7r7",
        "outputId": "c846fce2-b7c3-4b89-91de-8d7536ee3ff7"
      },
      "source": [
        "data['Date'].max()"
      ],
      "execution_count": 29,
      "outputs": [
        {
          "output_type": "execute_result",
          "data": {
            "application/vnd.google.colaboratory.intrinsic+json": {
              "type": "string"
            },
            "text/plain": [
              "'2020-09-02'"
            ]
          },
          "metadata": {},
          "execution_count": 29
        }
      ]
    },
    {
      "cell_type": "code",
      "metadata": {
        "colab": {
          "base_uri": "https://localhost:8080/",
          "height": 35
        },
        "id": "fsn64RQjVFEE",
        "outputId": "d0e58931-97ad-4432-c24d-358e870c2cf4"
      },
      "source": [
        "data['Date'].min()"
      ],
      "execution_count": 30,
      "outputs": [
        {
          "output_type": "execute_result",
          "data": {
            "application/vnd.google.colaboratory.intrinsic+json": {
              "type": "string"
            },
            "text/plain": [
              "'2017-09-05'"
            ]
          },
          "metadata": {},
          "execution_count": 30
        }
      ]
    },
    {
      "cell_type": "code",
      "metadata": {
        "id": "cmuxkq8IVN5w"
      },
      "source": [
        "training_set = data.iloc[:,1:2].values                         # to get \"Open\" column to training purpose..."
      ],
      "execution_count": 31,
      "outputs": []
    },
    {
      "cell_type": "code",
      "metadata": {
        "colab": {
          "base_uri": "https://localhost:8080/"
        },
        "id": "KWl_6wwoVuPd",
        "outputId": "76fa123d-df8a-4faa-9c53-9af58c8be747"
      },
      "source": [
        "training_set.shape"
      ],
      "execution_count": 32,
      "outputs": [
        {
          "output_type": "execute_result",
          "data": {
            "text/plain": [
              "(755, 1)"
            ]
          },
          "metadata": {},
          "execution_count": 32
        }
      ]
    },
    {
      "cell_type": "code",
      "metadata": {
        "id": "d0v2kkLqVxTY"
      },
      "source": [
        "# feature scaling... there are two ways of scaling, standardization and normalization...\n",
        "# here we are using Normalization, in RNN generally, normalization is used\n",
        "\n",
        "from sklearn.preprocessing import MinMaxScaler\n",
        "scaler = MinMaxScaler(feature_range=(0,1))\n",
        "training_set_scaled = scaler.fit_transform(training_set)"
      ],
      "execution_count": 33,
      "outputs": []
    },
    {
      "cell_type": "code",
      "metadata": {
        "colab": {
          "base_uri": "https://localhost:8080/"
        },
        "id": "QK63JntBWrdz",
        "outputId": "858c0df7-9c26-4e61-b7dd-354ffb70f633"
      },
      "source": [
        "training_set_scaled.shape"
      ],
      "execution_count": 34,
      "outputs": [
        {
          "output_type": "execute_result",
          "data": {
            "text/plain": [
              "(755, 1)"
            ]
          },
          "metadata": {},
          "execution_count": 34
        }
      ]
    },
    {
      "cell_type": "code",
      "metadata": {
        "id": "dicAk-thWv8h"
      },
      "source": [
        "# creating a data structure with 60 timesteps and 1 output..\n",
        "\n",
        "x_train = []\n",
        "y_train = []\n",
        "for i in range(60,755):\n",
        "  x_train.append(training_set_scaled[i-60:i, 0])             # 0 is the column index..\n",
        "  y_train.append(training_set_scaled[i,0])\n",
        "\n",
        "# converting x_train and y_train into numpy array..\n",
        "x_train, y_train = np.array(x_train), np.array(y_train)"
      ],
      "execution_count": 35,
      "outputs": []
    },
    {
      "cell_type": "code",
      "metadata": {
        "colab": {
          "base_uri": "https://localhost:8080/"
        },
        "id": "jYi9cY_fYYwO",
        "outputId": "080dd93b-6f44-47f2-e6e4-65b29696dc9f"
      },
      "source": [
        "x_train.shape"
      ],
      "execution_count": 36,
      "outputs": [
        {
          "output_type": "execute_result",
          "data": {
            "text/plain": [
              "(695, 60)"
            ]
          },
          "metadata": {},
          "execution_count": 36
        }
      ]
    },
    {
      "cell_type": "code",
      "metadata": {
        "colab": {
          "base_uri": "https://localhost:8080/"
        },
        "id": "sGwkhdm1Z3KN",
        "outputId": "4ee00858-0292-4652-99cc-3ab38af0ba1e"
      },
      "source": [
        "y_train.shape"
      ],
      "execution_count": 37,
      "outputs": [
        {
          "output_type": "execute_result",
          "data": {
            "text/plain": [
              "(695,)"
            ]
          },
          "metadata": {},
          "execution_count": 37
        }
      ]
    },
    {
      "cell_type": "code",
      "metadata": {
        "id": "_T6B9JYqZ9Oq"
      },
      "source": [
        "# Reshaping the dataset..\n",
        "\n",
        "x_train = x_train.reshape(695,60,1)        # 695 is batch size total no. of observations, 60 is timestep i.e. total columns, 1 is a predictor i.e. one Google stock price\n"
      ],
      "execution_count": 38,
      "outputs": []
    },
    {
      "cell_type": "code",
      "metadata": {
        "colab": {
          "base_uri": "https://localhost:8080/"
        },
        "id": "Fd7VdRVVax6E",
        "outputId": "ed6e8338-a2ba-46d0-b455-102553c37d58"
      },
      "source": [
        "x_train.shape"
      ],
      "execution_count": 39,
      "outputs": [
        {
          "output_type": "execute_result",
          "data": {
            "text/plain": [
              "(695, 60, 1)"
            ]
          },
          "metadata": {},
          "execution_count": 39
        }
      ]
    },
    {
      "cell_type": "markdown",
      "metadata": {
        "id": "0T4lCKjQbf0r"
      },
      "source": [
        "# Building LSTM"
      ]
    },
    {
      "cell_type": "code",
      "metadata": {
        "id": "Dm9SfRRWa9qv"
      },
      "source": [
        "from keras.layers import LSTM\n",
        "from keras.layers import Dense\n",
        "from keras.layers import Dropout\n",
        "from keras.models import Sequential\n",
        "model = Sequential()"
      ],
      "execution_count": 40,
      "outputs": []
    },
    {
      "cell_type": "code",
      "metadata": {
        "id": "cfvSlE23bq8S"
      },
      "source": [
        "# first LSTM Layer...\n",
        "model.add(LSTM(units=60, activation='relu', return_sequences=True, input_shape=(60,1)))\n",
        "\n",
        "# Dropout layer..\n",
        "model.add(Dropout(0.2))\n",
        "\n",
        "# Second LSTM layer..\n",
        "model.add(LSTM(units=60, activation='relu', return_sequences=True))           # use return_sequences = True when we are going to add next LSTM layer..\n",
        "model.add(Dropout(0.2))\n",
        "\n",
        "# Third LSTM layer...\n",
        "model.add(LSTM(units=80, activation='relu', return_sequences=True))\n",
        "model.add(Dropout(0.2))\n",
        "\n",
        "# Last LSTM layer... \n",
        "model.add(LSTM(units=120, activation='relu'))                                 # here we are not adding new LSTM layer, so return_sequences=False\n",
        "model.add(Dropout(0.2))\n",
        "\n",
        "# Output layer...\n",
        "model.add(Dense(units=1))"
      ],
      "execution_count": 41,
      "outputs": []
    },
    {
      "cell_type": "code",
      "metadata": {
        "colab": {
          "base_uri": "https://localhost:8080/"
        },
        "id": "k45CyAZucogb",
        "outputId": "00efa7d5-f507-40b1-bfa9-cbe260d66d36"
      },
      "source": [
        "model.summary()"
      ],
      "execution_count": 42,
      "outputs": [
        {
          "output_type": "stream",
          "name": "stdout",
          "text": [
            "Model: \"sequential\"\n",
            "_________________________________________________________________\n",
            "Layer (type)                 Output Shape              Param #   \n",
            "=================================================================\n",
            "lstm (LSTM)                  (None, 60, 60)            14880     \n",
            "_________________________________________________________________\n",
            "dropout (Dropout)            (None, 60, 60)            0         \n",
            "_________________________________________________________________\n",
            "lstm_1 (LSTM)                (None, 60, 60)            29040     \n",
            "_________________________________________________________________\n",
            "dropout_1 (Dropout)          (None, 60, 60)            0         \n",
            "_________________________________________________________________\n",
            "lstm_2 (LSTM)                (None, 60, 80)            45120     \n",
            "_________________________________________________________________\n",
            "dropout_2 (Dropout)          (None, 60, 80)            0         \n",
            "_________________________________________________________________\n",
            "lstm_3 (LSTM)                (None, 120)               96480     \n",
            "_________________________________________________________________\n",
            "dropout_3 (Dropout)          (None, 120)               0         \n",
            "_________________________________________________________________\n",
            "dense (Dense)                (None, 1)                 121       \n",
            "=================================================================\n",
            "Total params: 185,641\n",
            "Trainable params: 185,641\n",
            "Non-trainable params: 0\n",
            "_________________________________________________________________\n"
          ]
        }
      ]
    },
    {
      "cell_type": "code",
      "metadata": {
        "id": "_pc5G5A3eoAU"
      },
      "source": [
        "model.compile(optimizer='adam', loss='mean_squared_error')"
      ],
      "execution_count": 43,
      "outputs": []
    },
    {
      "cell_type": "markdown",
      "metadata": {
        "id": "SbMIg1jcfkJb"
      },
      "source": [
        "# Training the Model.."
      ]
    },
    {
      "cell_type": "code",
      "metadata": {
        "colab": {
          "base_uri": "https://localhost:8080/"
        },
        "id": "t78y9R2GfJT1",
        "outputId": "0790d003-1c24-4472-b0e7-3888b6b930e9"
      },
      "source": [
        "model.fit(x_train, y_train, batch_size=32, epochs=100)"
      ],
      "execution_count": 44,
      "outputs": [
        {
          "output_type": "stream",
          "name": "stdout",
          "text": [
            "Epoch 1/100\n",
            "22/22 [==============================] - 9s 177ms/step - loss: 0.0638\n",
            "Epoch 2/100\n",
            "22/22 [==============================] - 4s 175ms/step - loss: 0.0183\n",
            "Epoch 3/100\n",
            "22/22 [==============================] - 4s 172ms/step - loss: 0.0114\n",
            "Epoch 4/100\n",
            "22/22 [==============================] - 4s 173ms/step - loss: 0.0110\n",
            "Epoch 5/100\n",
            "22/22 [==============================] - 4s 175ms/step - loss: 0.0108\n",
            "Epoch 6/100\n",
            "22/22 [==============================] - 4s 176ms/step - loss: 0.0097\n",
            "Epoch 7/100\n",
            "22/22 [==============================] - 4s 173ms/step - loss: 0.0092\n",
            "Epoch 8/100\n",
            "22/22 [==============================] - 4s 174ms/step - loss: 0.0088\n",
            "Epoch 9/100\n",
            "22/22 [==============================] - 4s 173ms/step - loss: 0.0086\n",
            "Epoch 10/100\n",
            "22/22 [==============================] - 4s 176ms/step - loss: 0.0072\n",
            "Epoch 11/100\n",
            "22/22 [==============================] - 4s 172ms/step - loss: 0.0081\n",
            "Epoch 12/100\n",
            "22/22 [==============================] - 4s 172ms/step - loss: 0.0077\n",
            "Epoch 13/100\n",
            "22/22 [==============================] - 4s 171ms/step - loss: 0.0065\n",
            "Epoch 14/100\n",
            "22/22 [==============================] - 4s 170ms/step - loss: 0.0060\n",
            "Epoch 15/100\n",
            "22/22 [==============================] - 4s 175ms/step - loss: 0.0062\n",
            "Epoch 16/100\n",
            "22/22 [==============================] - 4s 173ms/step - loss: 0.0065\n",
            "Epoch 17/100\n",
            "22/22 [==============================] - 4s 177ms/step - loss: 0.0057\n",
            "Epoch 18/100\n",
            "22/22 [==============================] - 4s 172ms/step - loss: 0.0060\n",
            "Epoch 19/100\n",
            "22/22 [==============================] - 4s 174ms/step - loss: 0.0057\n",
            "Epoch 20/100\n",
            "22/22 [==============================] - 4s 171ms/step - loss: 0.0050\n",
            "Epoch 21/100\n",
            "22/22 [==============================] - 4s 172ms/step - loss: 0.0056\n",
            "Epoch 22/100\n",
            "22/22 [==============================] - 4s 175ms/step - loss: 0.0057\n",
            "Epoch 23/100\n",
            "22/22 [==============================] - 4s 172ms/step - loss: 0.0055\n",
            "Epoch 24/100\n",
            "22/22 [==============================] - 4s 174ms/step - loss: 0.0068\n",
            "Epoch 25/100\n",
            "22/22 [==============================] - 4s 173ms/step - loss: 0.0061\n",
            "Epoch 26/100\n",
            "22/22 [==============================] - 4s 175ms/step - loss: 0.0049\n",
            "Epoch 27/100\n",
            "22/22 [==============================] - 4s 174ms/step - loss: 0.0051\n",
            "Epoch 28/100\n",
            "22/22 [==============================] - 4s 176ms/step - loss: 0.0052\n",
            "Epoch 29/100\n",
            "22/22 [==============================] - 4s 171ms/step - loss: 0.0048\n",
            "Epoch 30/100\n",
            "22/22 [==============================] - 4s 171ms/step - loss: 0.0050\n",
            "Epoch 31/100\n",
            "22/22 [==============================] - 4s 172ms/step - loss: 0.0047\n",
            "Epoch 32/100\n",
            "22/22 [==============================] - 4s 173ms/step - loss: 0.0050\n",
            "Epoch 33/100\n",
            "22/22 [==============================] - 4s 176ms/step - loss: 0.0051\n",
            "Epoch 34/100\n",
            "22/22 [==============================] - 4s 173ms/step - loss: 0.0053\n",
            "Epoch 35/100\n",
            "22/22 [==============================] - 4s 171ms/step - loss: 0.0053\n",
            "Epoch 36/100\n",
            "22/22 [==============================] - 4s 172ms/step - loss: 0.0050\n",
            "Epoch 37/100\n",
            "22/22 [==============================] - 4s 172ms/step - loss: 0.0045\n",
            "Epoch 38/100\n",
            "22/22 [==============================] - 4s 174ms/step - loss: 0.0044\n",
            "Epoch 39/100\n",
            "22/22 [==============================] - 4s 170ms/step - loss: 0.0041\n",
            "Epoch 40/100\n",
            "22/22 [==============================] - 4s 170ms/step - loss: 0.0046\n",
            "Epoch 41/100\n",
            "22/22 [==============================] - 4s 172ms/step - loss: 0.0044\n",
            "Epoch 42/100\n",
            "22/22 [==============================] - 4s 173ms/step - loss: 0.0039\n",
            "Epoch 43/100\n",
            "22/22 [==============================] - 4s 170ms/step - loss: 0.0041\n",
            "Epoch 44/100\n",
            "22/22 [==============================] - 4s 170ms/step - loss: 0.0044\n",
            "Epoch 45/100\n",
            "22/22 [==============================] - 4s 171ms/step - loss: 0.0041\n",
            "Epoch 46/100\n",
            "22/22 [==============================] - 4s 170ms/step - loss: 0.0039\n",
            "Epoch 47/100\n",
            "22/22 [==============================] - 4s 172ms/step - loss: 0.0040\n",
            "Epoch 48/100\n",
            "22/22 [==============================] - 4s 173ms/step - loss: 0.0050\n",
            "Epoch 49/100\n",
            "22/22 [==============================] - 4s 172ms/step - loss: 0.0039\n",
            "Epoch 50/100\n",
            "22/22 [==============================] - 4s 172ms/step - loss: 0.0035\n",
            "Epoch 51/100\n",
            "22/22 [==============================] - 4s 173ms/step - loss: 0.0037\n",
            "Epoch 52/100\n",
            "22/22 [==============================] - 4s 173ms/step - loss: 0.0040\n",
            "Epoch 53/100\n",
            "22/22 [==============================] - 4s 172ms/step - loss: 0.0040\n",
            "Epoch 54/100\n",
            "22/22 [==============================] - 4s 175ms/step - loss: 0.0043\n",
            "Epoch 55/100\n",
            "22/22 [==============================] - 4s 171ms/step - loss: 0.0036\n",
            "Epoch 56/100\n",
            "22/22 [==============================] - 4s 175ms/step - loss: 0.0034\n",
            "Epoch 57/100\n",
            "22/22 [==============================] - 4s 174ms/step - loss: 0.0035\n",
            "Epoch 58/100\n",
            "22/22 [==============================] - 4s 171ms/step - loss: 0.0034\n",
            "Epoch 59/100\n",
            "22/22 [==============================] - 4s 175ms/step - loss: 0.0034\n",
            "Epoch 60/100\n",
            "22/22 [==============================] - 4s 173ms/step - loss: 0.0037\n",
            "Epoch 61/100\n",
            "22/22 [==============================] - 4s 172ms/step - loss: 0.0032\n",
            "Epoch 62/100\n",
            "22/22 [==============================] - 4s 171ms/step - loss: 0.0032\n",
            "Epoch 63/100\n",
            "22/22 [==============================] - 4s 172ms/step - loss: 0.0035\n",
            "Epoch 64/100\n",
            "22/22 [==============================] - 4s 173ms/step - loss: 0.0032\n",
            "Epoch 65/100\n",
            "22/22 [==============================] - 4s 172ms/step - loss: 0.0035\n",
            "Epoch 66/100\n",
            "22/22 [==============================] - 4s 174ms/step - loss: 0.0037\n",
            "Epoch 67/100\n",
            "22/22 [==============================] - 4s 171ms/step - loss: 0.0044\n",
            "Epoch 68/100\n",
            "22/22 [==============================] - 4s 173ms/step - loss: 0.0034\n",
            "Epoch 69/100\n",
            "22/22 [==============================] - 4s 176ms/step - loss: 0.0035\n",
            "Epoch 70/100\n",
            "22/22 [==============================] - 4s 176ms/step - loss: 0.0037\n",
            "Epoch 71/100\n",
            "22/22 [==============================] - 4s 171ms/step - loss: 0.0034\n",
            "Epoch 72/100\n",
            "22/22 [==============================] - 4s 173ms/step - loss: 0.0033\n",
            "Epoch 73/100\n",
            "22/22 [==============================] - 4s 172ms/step - loss: 0.0034\n",
            "Epoch 74/100\n",
            "22/22 [==============================] - 4s 177ms/step - loss: 0.0033\n",
            "Epoch 75/100\n",
            "22/22 [==============================] - 4s 176ms/step - loss: 0.0033\n",
            "Epoch 76/100\n",
            "22/22 [==============================] - 4s 172ms/step - loss: 0.0036\n",
            "Epoch 77/100\n",
            "22/22 [==============================] - 4s 172ms/step - loss: 0.0038\n",
            "Epoch 78/100\n",
            "22/22 [==============================] - 4s 173ms/step - loss: 0.0034\n",
            "Epoch 79/100\n",
            "22/22 [==============================] - 4s 172ms/step - loss: 0.0031\n",
            "Epoch 80/100\n",
            "22/22 [==============================] - 4s 174ms/step - loss: 0.0031\n",
            "Epoch 81/100\n",
            "22/22 [==============================] - 4s 171ms/step - loss: 0.0034\n",
            "Epoch 82/100\n",
            "22/22 [==============================] - 4s 171ms/step - loss: 0.0031\n",
            "Epoch 83/100\n",
            "22/22 [==============================] - 4s 175ms/step - loss: 0.0032\n",
            "Epoch 84/100\n",
            "22/22 [==============================] - 4s 170ms/step - loss: 0.0034\n",
            "Epoch 85/100\n",
            "22/22 [==============================] - 4s 173ms/step - loss: 0.0031\n",
            "Epoch 86/100\n",
            "22/22 [==============================] - 4s 175ms/step - loss: 0.0029\n",
            "Epoch 87/100\n",
            "22/22 [==============================] - 4s 175ms/step - loss: 0.0035\n",
            "Epoch 88/100\n",
            "22/22 [==============================] - 4s 173ms/step - loss: 0.0028\n",
            "Epoch 89/100\n",
            "22/22 [==============================] - 4s 174ms/step - loss: 0.0032\n",
            "Epoch 90/100\n",
            "22/22 [==============================] - 4s 172ms/step - loss: 0.0030\n",
            "Epoch 91/100\n",
            "22/22 [==============================] - 4s 176ms/step - loss: 0.0031\n",
            "Epoch 92/100\n",
            "22/22 [==============================] - 4s 172ms/step - loss: 0.0028\n",
            "Epoch 93/100\n",
            "22/22 [==============================] - 4s 173ms/step - loss: 0.0031\n",
            "Epoch 94/100\n",
            "22/22 [==============================] - 4s 175ms/step - loss: 0.0031\n",
            "Epoch 95/100\n",
            "22/22 [==============================] - 4s 171ms/step - loss: 0.0030\n",
            "Epoch 96/100\n",
            "22/22 [==============================] - 4s 175ms/step - loss: 0.0034\n",
            "Epoch 97/100\n",
            "22/22 [==============================] - 4s 174ms/step - loss: 0.0027\n",
            "Epoch 98/100\n",
            "22/22 [==============================] - 4s 171ms/step - loss: 0.0027\n",
            "Epoch 99/100\n",
            "22/22 [==============================] - 4s 173ms/step - loss: 0.0026\n",
            "Epoch 100/100\n",
            "22/22 [==============================] - 4s 175ms/step - loss: 0.0029\n"
          ]
        },
        {
          "output_type": "execute_result",
          "data": {
            "text/plain": [
              "<keras.callbacks.History at 0x7fb7b1fa5990>"
            ]
          },
          "metadata": {},
          "execution_count": 44
        }
      ]
    },
    {
      "cell_type": "markdown",
      "metadata": {
        "id": "gD93MVnOf2B9"
      },
      "source": [
        "# Prediction"
      ]
    },
    {
      "cell_type": "code",
      "metadata": {
        "id": "Oz5BFLcofiah"
      },
      "source": [
        "test_data = pd.read_csv('/content/test.csv')"
      ],
      "execution_count": 51,
      "outputs": []
    },
    {
      "cell_type": "code",
      "metadata": {
        "colab": {
          "base_uri": "https://localhost:8080/",
          "height": 203
        },
        "id": "2PtfRSdAg7VA",
        "outputId": "3417a549-bbdd-46c4-afa8-f1210834cd2d"
      },
      "source": [
        "test_data.head()"
      ],
      "execution_count": 52,
      "outputs": [
        {
          "output_type": "execute_result",
          "data": {
            "text/html": [
              "<div>\n",
              "<style scoped>\n",
              "    .dataframe tbody tr th:only-of-type {\n",
              "        vertical-align: middle;\n",
              "    }\n",
              "\n",
              "    .dataframe tbody tr th {\n",
              "        vertical-align: top;\n",
              "    }\n",
              "\n",
              "    .dataframe thead th {\n",
              "        text-align: right;\n",
              "    }\n",
              "</style>\n",
              "<table border=\"1\" class=\"dataframe\">\n",
              "  <thead>\n",
              "    <tr style=\"text-align: right;\">\n",
              "      <th></th>\n",
              "      <th>Date</th>\n",
              "      <th>Open</th>\n",
              "      <th>High</th>\n",
              "      <th>Low</th>\n",
              "      <th>Close</th>\n",
              "      <th>Adj Close</th>\n",
              "      <th>Volume</th>\n",
              "    </tr>\n",
              "  </thead>\n",
              "  <tbody>\n",
              "    <tr>\n",
              "      <th>0</th>\n",
              "      <td>2021-06-03</td>\n",
              "      <td>2345.729980</td>\n",
              "      <td>2357.020020</td>\n",
              "      <td>2329.520020</td>\n",
              "      <td>2347.580078</td>\n",
              "      <td>2347.580078</td>\n",
              "      <td>934800</td>\n",
              "    </tr>\n",
              "    <tr>\n",
              "      <th>1</th>\n",
              "      <td>2021-06-04</td>\n",
              "      <td>2369.270020</td>\n",
              "      <td>2399.030029</td>\n",
              "      <td>2362.409912</td>\n",
              "      <td>2393.570068</td>\n",
              "      <td>2393.570068</td>\n",
              "      <td>1222900</td>\n",
              "    </tr>\n",
              "    <tr>\n",
              "      <th>2</th>\n",
              "      <td>2021-06-07</td>\n",
              "      <td>2389.439941</td>\n",
              "      <td>2404.510010</td>\n",
              "      <td>2381.000000</td>\n",
              "      <td>2402.300049</td>\n",
              "      <td>2402.300049</td>\n",
              "      <td>1206000</td>\n",
              "    </tr>\n",
              "    <tr>\n",
              "      <th>3</th>\n",
              "      <td>2021-06-08</td>\n",
              "      <td>2412.010010</td>\n",
              "      <td>2419.520020</td>\n",
              "      <td>2394.780029</td>\n",
              "      <td>2398.439941</td>\n",
              "      <td>2398.439941</td>\n",
              "      <td>1212000</td>\n",
              "    </tr>\n",
              "    <tr>\n",
              "      <th>4</th>\n",
              "      <td>2021-06-09</td>\n",
              "      <td>2411.429932</td>\n",
              "      <td>2412.879883</td>\n",
              "      <td>2396.899902</td>\n",
              "      <td>2407.939941</td>\n",
              "      <td>2407.939941</td>\n",
              "      <td>897100</td>\n",
              "    </tr>\n",
              "  </tbody>\n",
              "</table>\n",
              "</div>"
            ],
            "text/plain": [
              "         Date         Open         High  ...        Close    Adj Close   Volume\n",
              "0  2021-06-03  2345.729980  2357.020020  ...  2347.580078  2347.580078   934800\n",
              "1  2021-06-04  2369.270020  2399.030029  ...  2393.570068  2393.570068  1222900\n",
              "2  2021-06-07  2389.439941  2404.510010  ...  2402.300049  2402.300049  1206000\n",
              "3  2021-06-08  2412.010010  2419.520020  ...  2398.439941  2398.439941  1212000\n",
              "4  2021-06-09  2411.429932  2412.879883  ...  2407.939941  2407.939941   897100\n",
              "\n",
              "[5 rows x 7 columns]"
            ]
          },
          "metadata": {},
          "execution_count": 52
        }
      ]
    },
    {
      "cell_type": "code",
      "metadata": {
        "colab": {
          "base_uri": "https://localhost:8080/",
          "height": 537
        },
        "id": "W_qHnQcnMK8J",
        "outputId": "2d38bcf6-cfef-4285-e093-4f1f0f3dac56"
      },
      "source": [
        "plt.figure(figsize=(16,9))\n",
        "test_data['Open'].plot()\n",
        "plt.show()"
      ],
      "execution_count": 53,
      "outputs": [
        {
          "output_type": "display_data",
          "data": {
            "image/png": "[encoded data removed]",
            "text/plain": [
              "<Figure size 1152x648 with 1 Axes>"
            ]
          },
          "metadata": {
            "needs_background": "light"
          }
        }
      ]
    },
    {
      "cell_type": "code",
      "metadata": {
        "colab": {
          "base_uri": "https://localhost:8080/"
        },
        "id": "jxPzd9M0g_Hh",
        "outputId": "84430cec-8dbb-4ac9-90a8-cd2c071129f3"
      },
      "source": [
        "test_data.shape"
      ],
      "execution_count": 54,
      "outputs": [
        {
          "output_type": "execute_result",
          "data": {
            "text/plain": [
              "(65, 7)"
            ]
          },
          "metadata": {},
          "execution_count": 54
        }
      ]
    },
    {
      "cell_type": "code",
      "metadata": {
        "colab": {
          "base_uri": "https://localhost:8080/"
        },
        "id": "LKWkc5vulXiN",
        "outputId": "5bd7219f-f831-462e-aaad-4c291a4525db"
      },
      "source": [
        "test_data.info()"
      ],
      "execution_count": 55,
      "outputs": [
        {
          "output_type": "stream",
          "name": "stdout",
          "text": [
            "<class 'pandas.core.frame.DataFrame'>\n",
            "RangeIndex: 65 entries, 0 to 64\n",
            "Data columns (total 7 columns):\n",
            " #   Column     Non-Null Count  Dtype  \n",
            "---  ------     --------------  -----  \n",
            " 0   Date       65 non-null     object \n",
            " 1   Open       65 non-null     float64\n",
            " 2   High       65 non-null     float64\n",
            " 3   Low        65 non-null     float64\n",
            " 4   Close      65 non-null     float64\n",
            " 5   Adj Close  65 non-null     float64\n",
            " 6   Volume     65 non-null     int64  \n",
            "dtypes: float64(5), int64(1), object(1)\n",
            "memory usage: 3.7+ KB\n"
          ]
        }
      ]
    },
    {
      "cell_type": "code",
      "metadata": {
        "id": "RxpVKBWGhFR4"
      },
      "source": [
        "real_price = test_data.iloc[:,1:2].values"
      ],
      "execution_count": 56,
      "outputs": []
    },
    {
      "cell_type": "code",
      "metadata": {
        "colab": {
          "base_uri": "https://localhost:8080/"
        },
        "id": "dzvfODf7hafk",
        "outputId": "65a28a54-6f4e-4669-8e00-20eada0688ca"
      },
      "source": [
        "real_price.shape"
      ],
      "execution_count": 57,
      "outputs": [
        {
          "output_type": "execute_result",
          "data": {
            "text/plain": [
              "(65, 1)"
            ]
          },
          "metadata": {},
          "execution_count": 57
        }
      ]
    },
    {
      "cell_type": "code",
      "metadata": {
        "id": "Wuz7rQq_hfn0"
      },
      "source": [
        "# Getting predicted stock prices..\n",
        "dataset_total = pd.concat((data['Open'], test_data['Open']))\n",
        "\n",
        "# Stock prices of previous 60 days for each day of test_data\n",
        "inputs = dataset_total[len(dataset_total) - len(test_data) - 60:].values\n",
        "inputs = inputs.reshape(-1,1)\n",
        "inputs = scaler.transform(inputs)\n",
        "\n",
        "x_test = []\n",
        "for i in range(60,125):                  # we have to select stock prices of previous 60 days for each prediction, hence lower bound is 60 and 60+65=125..60 of previous stock prices and 65 of test_data\n",
        "  x_test.append(inputs[i-60:i, 0])\n",
        "\n",
        "x_test = np.array(x_test)\n",
        "x_test = np.reshape(x_test,(x_test.shape[0],x_test.shape[1],1))\n",
        "predicted_stock_prices = model.predict(x_test)\n",
        "predicted_stock_prices = scaler.inverse_transform(predicted_stock_prices)"
      ],
      "execution_count": 59,
      "outputs": []
    },
    {
      "cell_type": "code",
      "metadata": {
        "colab": {
          "base_uri": "https://localhost:8080/"
        },
        "id": "xT5AgZ61k0Lo",
        "outputId": "8bb7bb6c-789a-49c5-8d4f-ced4b2031ea3"
      },
      "source": [
        "print(predicted_stock_prices[3]), print(real_price[3])"
      ],
      "execution_count": 60,
      "outputs": [
        {
          "output_type": "stream",
          "name": "stdout",
          "text": [
            "[2029.5304]\n",
            "[2412.01001]\n"
          ]
        },
        {
          "output_type": "execute_result",
          "data": {
            "text/plain": [
              "(None, None)"
            ]
          },
          "metadata": {},
          "execution_count": 60
        }
      ]
    },
    {
      "cell_type": "markdown",
      "metadata": {
        "id": "cVGHQIH_qnYb"
      },
      "source": [
        "# Visualization"
      ]
    },
    {
      "cell_type": "code",
      "metadata": {
        "id": "hYojdw6dmaHQ",
        "colab": {
          "base_uri": "https://localhost:8080/",
          "height": 537
        },
        "outputId": "b794fe4a-0204-47c1-b159-a1f9c39fd9ec"
      },
      "source": [
        "plt.figure(figsize=(16,9))\n",
        "plt.plot(real_price, color='red', label='Real_stock_prices')\n",
        "plt.plot(predicted_stock_prices, color='green', label='predicted_stock_prices')\n",
        "plt.legend()\n",
        "plt.show()"
      ],
      "execution_count": 61,
      "outputs": [
        {
          "output_type": "display_data",
          "data": {
            "image/png": "[encoded data removed]",
            "text/plain": [
              "<Figure size 1152x648 with 1 Axes>"
            ]
          },
          "metadata": {
            "needs_background": "light"
          }
        }
      ]
    },
    {
      "cell_type": "code",
      "metadata": {
        "id": "zZdSTKa8q_1A"
      },
      "source": [
        ""
      ],
      "execution_count": 49,
      "outputs": []
    }
  ]
}
